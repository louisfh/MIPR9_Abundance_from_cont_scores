{
 "cells": [
  {
   "cell_type": "code",
   "execution_count": 3,
   "metadata": {},
   "outputs": [],
   "source": [
    "# I will inspect some histograms, in order to work out reasonable mu1, mu2, sigma1, sigma2 values for the mixture model\n",
    "# I will start by looking at Cam's WOTH data"
   ]
  },
  {
   "cell_type": "code",
   "execution_count": 4,
   "metadata": {},
   "outputs": [],
   "source": [
    "import pandas as pd\n",
    "import numpy as np\n",
    "import matplotlib.pyplot as plt"
   ]
  },
  {
   "cell_type": "code",
   "execution_count": 5,
   "metadata": {},
   "outputs": [
    {
     "data": {
      "text/html": [
       "<div>\n",
       "<style scoped>\n",
       "    .dataframe tbody tr th:only-of-type {\n",
       "        vertical-align: middle;\n",
       "    }\n",
       "\n",
       "    .dataframe tbody tr th {\n",
       "        vertical-align: top;\n",
       "    }\n",
       "\n",
       "    .dataframe thead th {\n",
       "        text-align: right;\n",
       "    }\n",
       "</style>\n",
       "<table border=\"1\" class=\"dataframe\">\n",
       "  <thead>\n",
       "    <tr style=\"text-align: right;\">\n",
       "      <th></th>\n",
       "      <th></th>\n",
       "      <th></th>\n",
       "      <th>WOTH_song_x</th>\n",
       "      <th>site</th>\n",
       "      <th>date</th>\n",
       "      <th>time_period</th>\n",
       "      <th>WOTH_song_annotation</th>\n",
       "    </tr>\n",
       "    <tr>\n",
       "      <th>file</th>\n",
       "      <th>start_time</th>\n",
       "      <th>end_time</th>\n",
       "      <th></th>\n",
       "      <th></th>\n",
       "      <th></th>\n",
       "      <th></th>\n",
       "      <th></th>\n",
       "    </tr>\n",
       "  </thead>\n",
       "  <tbody>\n",
       "    <tr>\n",
       "      <th rowspan=\"5\" valign=\"top\">/media/emu/datasets/aru/appl2021e/MSD-1407/20210621_100000.WAV</th>\n",
       "      <th>0</th>\n",
       "      <th>4</th>\n",
       "      <td>-21.116142</td>\n",
       "      <td>MSD-1407</td>\n",
       "      <td>20210621</td>\n",
       "      <td>600-630</td>\n",
       "      <td>NaN</td>\n",
       "    </tr>\n",
       "    <tr>\n",
       "      <th>4</th>\n",
       "      <th>8</th>\n",
       "      <td>-20.043306</td>\n",
       "      <td>MSD-1407</td>\n",
       "      <td>20210621</td>\n",
       "      <td>600-630</td>\n",
       "      <td>NaN</td>\n",
       "    </tr>\n",
       "    <tr>\n",
       "      <th>8</th>\n",
       "      <th>12</th>\n",
       "      <td>-18.483469</td>\n",
       "      <td>MSD-1407</td>\n",
       "      <td>20210621</td>\n",
       "      <td>600-630</td>\n",
       "      <td>NaN</td>\n",
       "    </tr>\n",
       "    <tr>\n",
       "      <th>12</th>\n",
       "      <th>16</th>\n",
       "      <td>-21.478302</td>\n",
       "      <td>MSD-1407</td>\n",
       "      <td>20210621</td>\n",
       "      <td>600-630</td>\n",
       "      <td>NaN</td>\n",
       "    </tr>\n",
       "    <tr>\n",
       "      <th>16</th>\n",
       "      <th>20</th>\n",
       "      <td>-18.726887</td>\n",
       "      <td>MSD-1407</td>\n",
       "      <td>20210621</td>\n",
       "      <td>600-630</td>\n",
       "      <td>NaN</td>\n",
       "    </tr>\n",
       "    <tr>\n",
       "      <th>...</th>\n",
       "      <th>...</th>\n",
       "      <th>...</th>\n",
       "      <td>...</td>\n",
       "      <td>...</td>\n",
       "      <td>...</td>\n",
       "      <td>...</td>\n",
       "      <td>...</td>\n",
       "    </tr>\n",
       "    <tr>\n",
       "      <th rowspan=\"5\" valign=\"top\">/media/emu/datasets/aru/appl2021e/MSD-1373/20210518_100000.WAV</th>\n",
       "      <th>7180</th>\n",
       "      <th>7184</th>\n",
       "      <td>-15.802761</td>\n",
       "      <td>MSD-1373</td>\n",
       "      <td>20210518</td>\n",
       "      <td>730-800</td>\n",
       "      <td>NaN</td>\n",
       "    </tr>\n",
       "    <tr>\n",
       "      <th>7184</th>\n",
       "      <th>7188</th>\n",
       "      <td>-19.777870</td>\n",
       "      <td>MSD-1373</td>\n",
       "      <td>20210518</td>\n",
       "      <td>730-800</td>\n",
       "      <td>NaN</td>\n",
       "    </tr>\n",
       "    <tr>\n",
       "      <th>7188</th>\n",
       "      <th>7192</th>\n",
       "      <td>-20.402475</td>\n",
       "      <td>MSD-1373</td>\n",
       "      <td>20210518</td>\n",
       "      <td>730-800</td>\n",
       "      <td>NaN</td>\n",
       "    </tr>\n",
       "    <tr>\n",
       "      <th>7192</th>\n",
       "      <th>7196</th>\n",
       "      <td>-23.223621</td>\n",
       "      <td>MSD-1373</td>\n",
       "      <td>20210518</td>\n",
       "      <td>730-800</td>\n",
       "      <td>NaN</td>\n",
       "    </tr>\n",
       "    <tr>\n",
       "      <th>7196</th>\n",
       "      <th>7200</th>\n",
       "      <td>-24.935585</td>\n",
       "      <td>MSD-1373</td>\n",
       "      <td>20210518</td>\n",
       "      <td>730-800</td>\n",
       "      <td>NaN</td>\n",
       "    </tr>\n",
       "  </tbody>\n",
       "</table>\n",
       "<p>6874565 rows × 5 columns</p>\n",
       "</div>"
      ],
      "text/plain": [
       "                                                                        WOTH_song_x  \\\n",
       "file                                               start_time end_time                \n",
       "/media/emu/datasets/aru/appl2021e/MSD-1407/2021... 0          4          -21.116142   \n",
       "                                                   4          8          -20.043306   \n",
       "                                                   8          12         -18.483469   \n",
       "                                                   12         16         -21.478302   \n",
       "                                                   16         20         -18.726887   \n",
       "...                                                                             ...   \n",
       "/media/emu/datasets/aru/appl2021e/MSD-1373/2021... 7180       7184       -15.802761   \n",
       "                                                   7184       7188       -19.777870   \n",
       "                                                   7188       7192       -20.402475   \n",
       "                                                   7192       7196       -23.223621   \n",
       "                                                   7196       7200       -24.935585   \n",
       "\n",
       "                                                                            site  \\\n",
       "file                                               start_time end_time             \n",
       "/media/emu/datasets/aru/appl2021e/MSD-1407/2021... 0          4         MSD-1407   \n",
       "                                                   4          8         MSD-1407   \n",
       "                                                   8          12        MSD-1407   \n",
       "                                                   12         16        MSD-1407   \n",
       "                                                   16         20        MSD-1407   \n",
       "...                                                                          ...   \n",
       "/media/emu/datasets/aru/appl2021e/MSD-1373/2021... 7180       7184      MSD-1373   \n",
       "                                                   7184       7188      MSD-1373   \n",
       "                                                   7188       7192      MSD-1373   \n",
       "                                                   7192       7196      MSD-1373   \n",
       "                                                   7196       7200      MSD-1373   \n",
       "\n",
       "                                                                            date  \\\n",
       "file                                               start_time end_time             \n",
       "/media/emu/datasets/aru/appl2021e/MSD-1407/2021... 0          4         20210621   \n",
       "                                                   4          8         20210621   \n",
       "                                                   8          12        20210621   \n",
       "                                                   12         16        20210621   \n",
       "                                                   16         20        20210621   \n",
       "...                                                                          ...   \n",
       "/media/emu/datasets/aru/appl2021e/MSD-1373/2021... 7180       7184      20210518   \n",
       "                                                   7184       7188      20210518   \n",
       "                                                   7188       7192      20210518   \n",
       "                                                   7192       7196      20210518   \n",
       "                                                   7196       7200      20210518   \n",
       "\n",
       "                                                                       time_period  \\\n",
       "file                                               start_time end_time               \n",
       "/media/emu/datasets/aru/appl2021e/MSD-1407/2021... 0          4            600-630   \n",
       "                                                   4          8            600-630   \n",
       "                                                   8          12           600-630   \n",
       "                                                   12         16           600-630   \n",
       "                                                   16         20           600-630   \n",
       "...                                                                            ...   \n",
       "/media/emu/datasets/aru/appl2021e/MSD-1373/2021... 7180       7184         730-800   \n",
       "                                                   7184       7188         730-800   \n",
       "                                                   7188       7192         730-800   \n",
       "                                                   7192       7196         730-800   \n",
       "                                                   7196       7200         730-800   \n",
       "\n",
       "                                                                        WOTH_song_annotation  \n",
       "file                                               start_time end_time                        \n",
       "/media/emu/datasets/aru/appl2021e/MSD-1407/2021... 0          4                          NaN  \n",
       "                                                   4          8                          NaN  \n",
       "                                                   8          12                         NaN  \n",
       "                                                   12         16                         NaN  \n",
       "                                                   16         20                         NaN  \n",
       "...                                                                                      ...  \n",
       "/media/emu/datasets/aru/appl2021e/MSD-1373/2021... 7180       7184                       NaN  \n",
       "                                                   7184       7188                       NaN  \n",
       "                                                   7188       7192                       NaN  \n",
       "                                                   7192       7196                       NaN  \n",
       "                                                   7196       7200                       NaN  \n",
       "\n",
       "[6874565 rows x 5 columns]"
      ]
     },
     "execution_count": 5,
     "metadata": {},
     "output_type": "execute_result"
    }
   ],
   "source": [
    "preds = pd.read_csv('./real_data/sgl60_cam_woth.csv', index_col=[0,1,2])\n",
    "preds"
   ]
  },
  {
   "cell_type": "code",
   "execution_count": 6,
   "metadata": {},
   "outputs": [
    {
     "name": "stderr",
     "output_type": "stream",
     "text": [
      "/home/lfh/miniconda3/envs/all_tools_py39/lib/python3.9/site-packages/scipy/__init__.py:146: UserWarning: A NumPy version >=1.16.5 and <1.23.0 is required for this version of SciPy (detected version 1.24.4\n",
      "  warnings.warn(f\"A NumPy version >={np_minversion} and <{np_maxversion}\"\n"
     ]
    },
    {
     "name": "stdout",
     "output_type": "stream",
     "text": [
      "Means found: [[-22.26892675]\n",
      " [-28.12374084]]\n",
      "Covariances found: [[[ 28.63252052]]\n",
      "\n",
      " [[130.05880079]]]\n",
      "Weights found: [0.6819217 0.3180783]\n"
     ]
    }
   ],
   "source": [
    "all_data = preds['WOTH_song_x'].values\n",
    "# fit a gaussian mixture with 2 components to this data\n",
    "from sklearn.mixture import GaussianMixture\n",
    "gmm = GaussianMixture(n_components=2, covariance_type='full')\n",
    "gmm.fit(all_data.reshape(-1,1))\n",
    "print(f\"Means found: {gmm.means_}\")\n",
    "print(f\"Covariances found: {gmm.covariances_}\")\n",
    "print(f\"Weights found: {gmm.weights_}\")"
   ]
  },
  {
   "cell_type": "code",
   "execution_count": 7,
   "metadata": {},
   "outputs": [
    {
     "data": {
      "text/plain": [
       "<matplotlib.legend.Legend at 0x7fb4bc7487f0>"
      ]
     },
     "execution_count": 7,
     "metadata": {},
     "output_type": "execute_result"
    },
    {
     "data": {
      "image/png": "[encoded data removed]",
      "text/plain": [
       "<Figure size 432x288 with 1 Axes>"
      ]
     },
     "metadata": {
      "needs_background": "light"
     },
     "output_type": "display_data"
    }
   ],
   "source": [
    "# plot the two gaussian\n",
    "# I will use the means and covariances found by the GMM\n",
    "import math\n",
    "# use large plots rcparams\n",
    "plt.rcParams['figure.figsize'] = [15, 10]\n",
    "\n",
    "mu1 = gmm.means_[0][0]\n",
    "mu2 = gmm.means_[1][0]\n",
    "sigma1 = math.sqrt(gmm.covariances_[0][0])\n",
    "sigma2 = math.sqrt(gmm.covariances_[1][0])\n",
    "x = np.linspace(min(all_data), max(all_data), 300)\n",
    "y1 = np.exp(-0.5*((x-mu1)/sigma1)**2)/(sigma1*np.sqrt(2*np.pi)) * gmm.weights_[0]\n",
    "y2 = np.exp(-0.5*((x-mu2)/sigma2)**2)/(sigma2*np.sqrt(2*np.pi)) * gmm.weights_[1]\n",
    "plt.plot(x, y1, label='Gaussian 1')\n",
    "plt.plot(x, y2, label='Gaussian 2')\n",
    "plt.hist(all_data, bins=500, density=True, alpha=0.5)\n",
    "\n",
    "# add a line for the sum of the two gaussians\n",
    "y = y1 + y2\n",
    "plt.plot(x, y, label='Sum of Gaussians', linestyle='--')\n",
    "\n",
    "plt.legend()"
   ]
  },
  {
   "cell_type": "code",
   "execution_count": 8,
   "metadata": {},
   "outputs": [
    {
     "data": {
      "text/plain": [
       "(GaussianMixture(n_components=2),\n",
       " <Axes: title={'center': 'Two Component Gaussian Mixture Model on all SGL60 WOTH scores'}, ylabel='Density'>)"
      ]
     },
     "execution_count": 8,
     "metadata": {},
     "output_type": "execute_result"
    },
    {
     "data": {
      "image/png": "[encoded data removed]",
      "text/plain": [
       "<Figure size 1080x720 with 1 Axes>"
      ]
     },
     "metadata": {
      "needs_background": "light"
     },
     "output_type": "display_data"
    }
   ],
   "source": [
    "def fit_n_gaussians_and_plot(data, n_components, n_hist_bins, title='Two Component Gaussian Mixture Model', figsize=(15, 10), log=False):\n",
    "    \"\"\"\n",
    "    Fit an n_component Gaussian Mixture Model to the data y and plot the result\n",
    "    Args:\n",
    "        data: np.array\n",
    "        n_components: int\n",
    "        n_hist_bins: int\n",
    "        title: str\n",
    "        figsize: tuple\n",
    "        log: bool. Whether to fit the normals, or log normals. If True, the histogram will be log transformed before fitting the model\n",
    "    Returns:\n",
    "        gmm: sklearn.mixture.GaussianMixture\n",
    "        ax: matplotlib.axes._subplots.AxesSubplot\n",
    "    \"\"\"\n",
    "\n",
    "    from sklearn.mixture import GaussianMixture\n",
    "    import math\n",
    "    \n",
    "    fig, ax = plt.subplots(figsize=figsize)\n",
    "\n",
    "    gmm = GaussianMixture(n_components=n_components, covariance_type='full')\n",
    "    gmm.fit(data.reshape(-1,1))\n",
    "\n",
    "    means = gmm.means_\n",
    "    covariances = gmm.covariances_\n",
    "    weights = gmm.weights_\n",
    "    \n",
    "    x = np.linspace(min(data), max(data), n_hist_bins)\n",
    "\n",
    "    sum_of_gaussians = np.zeros(n_hist_bins)\n",
    "    for i in range(n_components):\n",
    "        mu = means[i][0]\n",
    "        sigma = math.sqrt(covariances[i][0])\n",
    "        y = np.exp(-0.5*((x-mu)/sigma)**2)/(sigma*np.sqrt(2*np.pi)) * weights[i]\n",
    "        sum_of_gaussians += y\n",
    "        ax.plot(x, y, label=f\"Gaussian {i+1} μ: {mu:.2f}, σ: {sigma:.2f}, θ: {weights[i]:.2f}\", linestyle='-')\n",
    "    \n",
    "    # add a line for the sum of the gaussians\n",
    "    ax.plot(x, sum_of_gaussians, label='Sum of Gaussians', linestyle='--', color='black')\n",
    "\n",
    "    # add the observed data to the plot\n",
    "    ax.hist(data, bins=n_hist_bins, density=True, alpha=0.2, color = 'green', label='Observed Data')\n",
    "    \n",
    "    ax.set_title(title)\n",
    "    # label y axis\n",
    "    ax.set_ylabel('Density')\n",
    "\n",
    "    ax.legend()\n",
    "\n",
    "    # set axis y limit\n",
    "    return (gmm, ax)\n",
    "\n",
    "fit_n_gaussians_and_plot(all_data, n_components=2, n_hist_bins=500, title='Two Component Gaussian Mixture Model on all SGL60 WOTH scores', figsize=(15, 10), log=False)"
   ]
  },
  {
   "cell_type": "code",
   "execution_count": 9,
   "metadata": {},
   "outputs": [],
   "source": [
    "positives = preds[preds[\"WOTH_song_annotation\"] == 1]\n",
    "negatives = preds[preds[\"WOTH_song_annotation\"] == 0]\n",
    "unknowns = preds[preds[\"WOTH_song_annotation\"].isna()]"
   ]
  },
  {
   "cell_type": "code",
   "execution_count": 10,
   "metadata": {},
   "outputs": [
    {
     "data": {
      "text/plain": [
       "(416, 10905, 6863244)"
      ]
     },
     "execution_count": 10,
     "metadata": {},
     "output_type": "execute_result"
    }
   ],
   "source": [
    "len(positives), len(negatives), len(unknowns)"
   ]
  },
  {
   "cell_type": "code",
   "execution_count": 11,
   "metadata": {},
   "outputs": [
    {
     "data": {
      "text/plain": [
       "Text(0.5, 1.0, 'Histogram of WOTH scores for SGL60. Top 1 per site, per day, from 3 time-windows were annotated')"
      ]
     },
     "execution_count": 11,
     "metadata": {},
     "output_type": "execute_result"
    },
    {
     "data": {
      "image/png": "[encoded data removed]",
      "text/plain": [
       "<Figure size 432x288 with 1 Axes>"
      ]
     },
     "metadata": {
      "needs_background": "light"
     },
     "output_type": "display_data"
    }
   ],
   "source": [
    "plt.hist(positives['WOTH_song_x'], bins=50, density=True, alpha=0.5, label='Positives')\n",
    "plt.hist(negatives['WOTH_song_x'], bins=100, density=True, alpha=0.5, label='Negatives')\n",
    "plt.hist(unknowns['WOTH_song_x'], bins=500, density=True, alpha=0.5, label='Unannotated')\n",
    "plt.legend()\n",
    "plt.title('Histogram of WOTH scores for SGL60. Top 1 per site, per day, from 3 time-windows were annotated')"
   ]
  },
  {
   "cell_type": "code",
   "execution_count": 12,
   "metadata": {},
   "outputs": [
    {
     "name": "stderr",
     "output_type": "stream",
     "text": [
      "/home/lfh/miniconda3/envs/all_tools_py39/lib/python3.9/site-packages/scipy/stats/morestats.py:1760: UserWarning: p-value may not be accurate for N > 5000.\n",
      "  warnings.warn(\"p-value may not be accurate for N > 5000.\")\n"
     ]
    },
    {
     "data": {
      "text/plain": [
       "ShapiroResult(statistic=0.9660356640815735, pvalue=0.0)"
      ]
     },
     "execution_count": 12,
     "metadata": {},
     "output_type": "execute_result"
    }
   ],
   "source": [
    "# test the normality of the data using the Shapiro-Wilk test\n",
    "from scipy.stats import shapiro\n",
    "shapiro(all_data)"
   ]
  },
  {
   "cell_type": "code",
   "execution_count": 13,
   "metadata": {},
   "outputs": [
    {
     "data": {
      "text/plain": [
       "Text(0.5, 1.0, 'Shapiro-Wilk test p-value vs number of samples randomly chosen from sgl_60 WOTH scores (1000 repeats per sample size)')"
      ]
     },
     "execution_count": 13,
     "metadata": {},
     "output_type": "execute_result"
    },
    {
     "data": {
      "image/png": "[encoded data removed]",
      "text/plain": [
       "<Figure size 432x288 with 1 Axes>"
      ]
     },
     "metadata": {
      "needs_background": "light"
     },
     "output_type": "display_data"
    }
   ],
   "source": [
    "# try subsampling the data, and see how many samples you have to draw in order to fail the shapiro-wilk\n",
    "subsample_sizes = np.arange(10, 500, 10)\n",
    "num_repeats = 1000\n",
    "p_values = np.zeros(len(subsample_sizes))\n",
    "for i, n in enumerate(subsample_sizes):\n",
    "    p_values[i] = np.mean([shapiro(np.random.choice(all_data, n))[1] for _ in range(num_repeats)])\n",
    "plt.plot(subsample_sizes, p_values, label='Random subsample')\n",
    "\n",
    "for i, n in enumerate(subsample_sizes):\n",
    "    p_values[i] = np.mean([shapiro(np.random.choice(positives[\"WOTH_song_x\"], n))[1] for _ in range(num_repeats)])\n",
    "plt.plot(subsample_sizes, p_values, label='Positives')\n",
    "\n",
    "for i, n in enumerate(subsample_sizes):\n",
    "    p_values[i] = np.mean([shapiro(np.random.choice(negatives[\"WOTH_song_x\"], n))[1] for _ in range(num_repeats)])\n",
    "plt.plot(subsample_sizes, p_values, label='Negatives')\n",
    "\n",
    "plt.legend()\n",
    "plt.xlabel('Number of samples')\n",
    "plt.ylabel('Mean p-value from Shapiro-Wilk test')\n",
    "plt.title(f'Shapiro-Wilk test p-value vs number of samples randomly chosen from sgl_60 WOTH scores ({num_repeats} repeats per sample size)')"
   ]
  },
  {
   "cell_type": "code",
   "execution_count": 14,
   "metadata": {},
   "outputs": [],
   "source": [
    "# maybe I can try quantifying distribution shift by picking a relatively large number of samples, then calculating the KL divergence between the distributions of the samples\n",
    "def subset_by_method(all_data, data_to_match, method, **kwargs):\n",
    "    \"\"\"\n",
    "    A function for subsetting data, according to the method specified\n",
    "    Args:\n",
    "        all_data: pandas.DataFrame, containing all the data, and the columns to subset by\n",
    "        data_to_match: pandas.DataFrame, containing the data that you're going to match. This data should not be present in all_data \n",
    "                        (to avoid getting the same data back when querying all_data). \n",
    "        method: str. One of \"site\", \"date\", \"time_period\", \"site-date\", \"site-time_period\", \"date-time_period\", \"site-date-time_period\"\n",
    "    Returns:\n",
    "        subset: pandas.DataFrame\n",
    "    \"\"\"\n",
    "\n",
    "    matching_site = data_to_match[\"site\"].sample(1).values[0]\n",
    "    matching_date = data_to_match[\"date\"].sample(1).values[0]\n",
    "    matching_time_period = data_to_match[\"time_period\"].sample(1).values[0]\n",
    "\n",
    "    # check that data_to_match is not present in all_data\n",
    "    # do this by checking the index\n",
    "    assert data_to_match.index.isin(all_data.index).sum() == 0, \"The data to match should not be present in all_data\"\n",
    "    \n",
    "    if method == \"site\":\n",
    "        assert data_to_match[\"site\"].nunique() == 1, \"The data to match should only contain data from one site\"\n",
    "        subset = all_data[all_data[\"site\"] == matching_site]\n",
    "    elif method == \"date\":\n",
    "        assert data_to_match[\"date\"].nunique() == 1, \"The data to match should only contain data from one day\"\n",
    "        subset = all_data[all_data[\"date\"] == random_day]\n",
    "    elif method == \"time_period\":\n",
    "        assert data_to_match[\"time_period\"].nunique() == 1, \"The data to match should only contain data from one time period\"\n",
    "        subset = all_data[all_data[\"time_period\"] == matching_time_period]\n",
    "    elif method == \"site-date\":\n",
    "        assert data_to_match[\"site\"].nunique() == 1, \"The data to match should only contain data from one site\"\n",
    "        subset = all_data[(all_data[\"site\"] == matching_site) & (all_data[\"date\"] == matching_date)]\n",
    "    elif method == \"site-time_period\":\n",
    "        assert data_to_match[\"site\"].nunique() == 1, \"The data to match should only contain data from one site\"\n",
    "        assert data_to_match[\"time_period\"].nunique() == 1, \"The data to match should only contain data from one time period\"\n",
    "        subset = all_data[(all_data[\"site\"] == matching_site) & (all_data[\"time_period\"] == matching_time_period)]\n",
    "    elif method == \"date-time_period\":\n",
    "        assert data_to_match[\"date\"].nunique() == 1, \"The data to match should only contain data from one day\"\n",
    "        assert data_to_match[\"time_period\"].nunique() == 1, \"The data to match should only contain data from one time period\"\n",
    "        subset = all_data[(all_data[\"date\"] == matching_date) & (all_data[\"time_period\"] == matching_time_period)]          \n",
    "    elif method == \"site-date-time_period\":\n",
    "        assert data_to_match[\"site\"].nunique() == 1, \"The data to match should only contain data from one site\"\n",
    "        assert data_to_match[\"date\"].nunique() == 1, \"The data to match should only contain data from one day\"\n",
    "        assert data_to_match[\"time_period\"].nunique() == 1, \"The data to match should only contain data from one time period\"\n",
    "        subset = all_data[(all_data[\"site\"] == matching_site) & (all_data[\"date\"] == matching_date) & (all_data[\"time_period\"] == matching_time_period)]\n",
    "    else:\n",
    "        raise ValueError(f\"Method {method} not recognised\")\n",
    "    \n",
    "    return subset\n",
    "\n",
    "def KLdivergence(x, y):\n",
    "  \"\"\"Compute the Kullback-Leibler divergence between two multivariate samples.\n",
    "  Parameters\n",
    "  ----------\n",
    "  x : 2D array (n,d)\n",
    "    Samples from distribution P, which typically represents the true\n",
    "    distribution.\n",
    "  y : 2D array (m,d)\n",
    "    Samples from distribution Q, which typically represents the approximate\n",
    "    distribution.\n",
    "  Returns\n",
    "  -------\n",
    "  out : float\n",
    "    The estimated Kullback-Leibler divergence D(P||Q).\n",
    "  References\n",
    "  ----------\n",
    "  Pérez-Cruz, F. Kullback-Leibler divergence estimation of\n",
    "continuous distributions IEEE International Symposium on Information\n",
    "Theory, 2008.\n",
    "  \"\"\"\n",
    "  from scipy.spatial import cKDTree as KDTree\n",
    "\n",
    "  # Check the dimensions are consistent\n",
    "  x = np.atleast_2d(x)\n",
    "  y = np.atleast_2d(y)\n",
    "\n",
    "  n,d = x.shape\n",
    "  m,dy = y.shape\n",
    "\n",
    "  assert(d == dy)\n",
    "\n",
    "\n",
    "  # Build a KD tree representation of the samples and find the nearest neighbour\n",
    "  # of each point in x.\n",
    "  xtree = KDTree(x)\n",
    "  ytree = KDTree(y)\n",
    "\n",
    "  # Get the first two nearest neighbours for x, since the closest one is the\n",
    "  # sample itself.\n",
    "  r = xtree.query(x, k=2, eps=.01, p=2)[0][:,1]\n",
    "  s = ytree.query(x, k=1, eps=.01, p=2)[0]\n",
    "\n",
    "  # There is a mistake in the paper. In Eq. 14, the right side misses a negative sign\n",
    "  # on the first term of the right hand side.\n",
    "  return -np.log(r/s).sum() * d / n + np.log(m / (n - 1.))"
   ]
  },
  {
   "cell_type": "code",
   "execution_count": null,
   "metadata": {},
   "outputs": [],
   "source": [
    "# drop the time_periods that are NAs\n",
    "only_complete_time_periods = preds.dropna(subset=[\"time_period\"])"
   ]
  },
  {
   "cell_type": "code",
   "execution_count": 67,
   "metadata": {},
   "outputs": [
    {
     "name": "stdout",
     "output_type": "stream",
     "text": [
      "site: 75344 samples\n",
      "site: 71341 samples\n"
     ]
    },
    {
     "name": "stderr",
     "output_type": "stream",
     "text": [
      "/tmp/ipykernel_428328/2676623353.py:96: RuntimeWarning: divide by zero encountered in divide\n",
      "  return -np.log(r/s).sum() * d / n + np.log(m / (n - 1.))\n"
     ]
    },
    {
     "name": "stdout",
     "output_type": "stream",
     "text": [
      "site: 75152 samples\n",
      "site: 75324 samples\n",
      "site: 75400 samples\n"
     ]
    },
    {
     "name": "stderr",
     "output_type": "stream",
     "text": [
      "/tmp/ipykernel_428328/2676623353.py:96: RuntimeWarning: divide by zero encountered in divide\n",
      "  return -np.log(r/s).sum() * d / n + np.log(m / (n - 1.))\n"
     ]
    },
    {
     "name": "stdout",
     "output_type": "stream",
     "text": [
      "date: 92950 samples\n",
      "date: 92950 samples\n"
     ]
    },
    {
     "name": "stderr",
     "output_type": "stream",
     "text": [
      "/tmp/ipykernel_428328/2676623353.py:96: RuntimeWarning: divide by zero encountered in divide\n",
      "  return -np.log(r/s).sum() * d / n + np.log(m / (n - 1.))\n"
     ]
    },
    {
     "name": "stdout",
     "output_type": "stream",
     "text": [
      "date: 92950 samples\n"
     ]
    },
    {
     "name": "stderr",
     "output_type": "stream",
     "text": [
      "/tmp/ipykernel_428328/2676623353.py:96: RuntimeWarning: divide by zero encountered in divide\n",
      "  return -np.log(r/s).sum() * d / n + np.log(m / (n - 1.))\n"
     ]
    },
    {
     "name": "stdout",
     "output_type": "stream",
     "text": [
      "date: 92950 samples\n"
     ]
    },
    {
     "name": "stderr",
     "output_type": "stream",
     "text": [
      "/tmp/ipykernel_428328/2676623353.py:96: RuntimeWarning: divide by zero encountered in divide\n",
      "  return -np.log(r/s).sum() * d / n + np.log(m / (n - 1.))\n"
     ]
    },
    {
     "name": "stdout",
     "output_type": "stream",
     "text": [
      "date: 91600 samples\n"
     ]
    },
    {
     "name": "stderr",
     "output_type": "stream",
     "text": [
      "/tmp/ipykernel_428328/2676623353.py:96: RuntimeWarning: divide by zero encountered in divide\n",
      "  return -np.log(r/s).sum() * d / n + np.log(m / (n - 1.))\n"
     ]
    },
    {
     "name": "stdout",
     "output_type": "stream",
     "text": [
      "time_period: 1716005 samples\n"
     ]
    },
    {
     "name": "stderr",
     "output_type": "stream",
     "text": [
      "/tmp/ipykernel_428328/2676623353.py:96: RuntimeWarning: divide by zero encountered in divide\n",
      "  return -np.log(r/s).sum() * d / n + np.log(m / (n - 1.))\n"
     ]
    },
    {
     "name": "stdout",
     "output_type": "stream",
     "text": [
      "time_period: 1708472 samples\n"
     ]
    },
    {
     "name": "stderr",
     "output_type": "stream",
     "text": [
      "/tmp/ipykernel_428328/2676623353.py:96: RuntimeWarning: divide by zero encountered in divide\n",
      "  return -np.log(r/s).sum() * d / n + np.log(m / (n - 1.))\n"
     ]
    },
    {
     "name": "stdout",
     "output_type": "stream",
     "text": [
      "time_period: 1716005 samples\n"
     ]
    },
    {
     "name": "stderr",
     "output_type": "stream",
     "text": [
      "/tmp/ipykernel_428328/2676623353.py:96: RuntimeWarning: divide by zero encountered in divide\n",
      "  return -np.log(r/s).sum() * d / n + np.log(m / (n - 1.))\n"
     ]
    },
    {
     "name": "stdout",
     "output_type": "stream",
     "text": [
      "time_period: 1733287 samples\n"
     ]
    },
    {
     "name": "stderr",
     "output_type": "stream",
     "text": [
      "/tmp/ipykernel_428328/2676623353.py:96: RuntimeWarning: divide by zero encountered in divide\n",
      "  return -np.log(r/s).sum() * d / n + np.log(m / (n - 1.))\n"
     ]
    },
    {
     "name": "stdout",
     "output_type": "stream",
     "text": [
      "time_period: 1733287 samples\n"
     ]
    },
    {
     "name": "stderr",
     "output_type": "stream",
     "text": [
      "/tmp/ipykernel_428328/2676623353.py:96: RuntimeWarning: divide by zero encountered in divide\n",
      "  return -np.log(r/s).sum() * d / n + np.log(m / (n - 1.))\n"
     ]
    },
    {
     "name": "stdout",
     "output_type": "stream",
     "text": [
      "site-date: 1150 samples\n",
      "site-date: 1150 samples\n",
      "site-date: 1150 samples\n",
      "site-date: 1150 samples\n",
      "site-date: 1150 samples\n",
      "site-time_period: 24550 samples\n"
     ]
    },
    {
     "name": "stderr",
     "output_type": "stream",
     "text": [
      "/tmp/ipykernel_428328/2676623353.py:96: RuntimeWarning: divide by zero encountered in divide\n",
      "  return -np.log(r/s).sum() * d / n + np.log(m / (n - 1.))\n"
     ]
    },
    {
     "name": "stdout",
     "output_type": "stream",
     "text": [
      "site-time_period: 25000 samples\n"
     ]
    },
    {
     "name": "stderr",
     "output_type": "stream",
     "text": [
      "/tmp/ipykernel_428328/2676623353.py:96: RuntimeWarning: divide by zero encountered in divide\n",
      "  return -np.log(r/s).sum() * d / n + np.log(m / (n - 1.))\n"
     ]
    },
    {
     "name": "stdout",
     "output_type": "stream",
     "text": [
      "site-time_period: 24550 samples\n"
     ]
    },
    {
     "name": "stderr",
     "output_type": "stream",
     "text": [
      "/tmp/ipykernel_428328/2676623353.py:96: RuntimeWarning: divide by zero encountered in divide\n",
      "  return -np.log(r/s).sum() * d / n + np.log(m / (n - 1.))\n"
     ]
    },
    {
     "name": "stdout",
     "output_type": "stream",
     "text": [
      "site-time_period: 24810 samples\n",
      "site-time_period: 25000 samples\n",
      "date-time_period: 30207 samples\n",
      "date-time_period: 30850 samples\n"
     ]
    },
    {
     "name": "stderr",
     "output_type": "stream",
     "text": [
      "/tmp/ipykernel_428328/2676623353.py:96: RuntimeWarning: divide by zero encountered in divide\n",
      "  return -np.log(r/s).sum() * d / n + np.log(m / (n - 1.))\n"
     ]
    },
    {
     "name": "stdout",
     "output_type": "stream",
     "text": [
      "date-time_period: 30850 samples\n",
      "date-time_period: 30182 samples\n"
     ]
    },
    {
     "name": "stderr",
     "output_type": "stream",
     "text": [
      "/tmp/ipykernel_428328/2676623353.py:96: RuntimeWarning: divide by zero encountered in divide\n",
      "  return -np.log(r/s).sum() * d / n + np.log(m / (n - 1.))\n"
     ]
    },
    {
     "name": "stdout",
     "output_type": "stream",
     "text": [
      "date-time_period: 30850 samples\n",
      "site-date-time_period: 250 samples\n",
      "site-date-time_period: 250 samples\n",
      "site-date-time_period: 250 samples\n",
      "site-date-time_period: 250 samples\n",
      "site-date-time_period: 250 samples\n"
     ]
    }
   ],
   "source": [
    "# pick a random site, date and time_period\n",
    "num_iterations = 500\n",
    "kl_divergences = {}\n",
    "\n",
    "# get every site-date-time_period combination that has more than 400 samples\n",
    "possible_date_time_periods = only_complete_time_periods.groupby([\"site\", \"date\", \"time_period\"]).size().reset_index()\n",
    "possible_date_time_periods = possible_date_time_periods[possible_date_time_periods[0] > 400]\n",
    "\n",
    "for subsetting_method in [\"site\", \"date\", \"time_period\", \"site-date\", \"site-time_period\", \"date-time_period\", \"site-date-time_period\"]:\n",
    "\n",
    "    divergences = []\n",
    "    \n",
    "    for i in range(num_iterations):\n",
    "        # pick a random site, date and time_period from the possible combinations\n",
    "        row = possible_date_time_periods.sample(1)\n",
    "        random_site = row[\"site\"].values[0]\n",
    "        random_day = row[\"date\"].values[0]\n",
    "        random_time_period = row[\"time_period\"].values[0]\n",
    "\n",
    "        # get all the data that matches the random site, date and time_period\n",
    "        all_data_to_match = only_complete_time_periods[(only_complete_time_periods[\"site\"] == random_site) & (only_complete_time_periods[\"date\"] == random_day) & (only_complete_time_periods[\"time_period\"] == random_time_period)]\n",
    "        \n",
    "        # sample some of that data\n",
    "        data_to_match = all_data_to_match.sample(200, replace = False) # half the size of the average site-date-time_period subset\n",
    "\n",
    "        # drop those samples from the remaining data\n",
    "        remaining_data = only_complete_time_periods.drop(data_to_match.index) # drop the data that was sampled\n",
    "\n",
    "        # subset the remaining data to find those that match, according to the subsetting_method\n",
    "        subset = subset_by_method(remaining_data, data_to_match, subsetting_method)\n",
    "        print(f\"{subsetting_method}: {len(subset)} samples\")\n",
    "        divergences.append(KLdivergence(data_to_match[\"WOTH_song_x\"].values.reshape(-1, 1), subset[\"WOTH_song_x\"].values.reshape(-1, 1)))\n",
    "        \n",
    "    kl_divergences[subsetting_method] = divergences"
   ]
  },
  {
   "cell_type": "code",
   "execution_count": 75,
   "metadata": {},
   "outputs": [
    {
     "data": {
      "text/plain": [
       "{'site': [-0.003554295381120731,\n",
       "  -inf,\n",
       "  0.17390634042973208,\n",
       "  0.6773922434014601,\n",
       "  -inf],\n",
       " 'date': [0.11465519120075474, -inf, -inf, -inf, -inf],\n",
       " 'time_period': [-inf, -inf, -inf, -inf, -inf],\n",
       " 'site-date': [0.2923080690466622,\n",
       "  0.45990294712903346,\n",
       "  0.2104036149780042,\n",
       "  0.8779002100151262,\n",
       "  0.15965580811578528],\n",
       " 'site-time_period': [-inf,\n",
       "  -inf,\n",
       "  -inf,\n",
       "  -0.10206779581436365,\n",
       "  0.058791532949849845],\n",
       " 'date-time_period': [-0.1250586471950177,\n",
       "  -inf,\n",
       "  0.2588783899764966,\n",
       "  -inf,\n",
       "  0.1795135589697825],\n",
       " 'site-date-time_period': [-0.11317042241795697,\n",
       "  -0.050334642460501816,\n",
       "  -0.10571709414282757,\n",
       "  0.16974210129348077,\n",
       "  0.21478267519616903]}"
      ]
     },
     "execution_count": 75,
     "metadata": {},
     "output_type": "execute_result"
    }
   ],
   "source": [
    "pd.to_csv(kl_divergences, \"kl_divergences.csv\")"
   ]
  },
  {
   "cell_type": "code",
   "execution_count": 78,
   "metadata": {},
   "outputs": [
    {
     "name": "stdout",
     "output_type": "stream",
     "text": [
      "site: 0.2825814294833571\n",
      "date: 0.11465519120075474\n",
      "time_period: nan\n",
      "site-date: 0.4000341298569222\n",
      "site-time_period: -0.021638131432256902\n",
      "date-time_period: 0.10444443391708713\n",
      "site-date-time_period: 0.023060523493672696\n"
     ]
    },
    {
     "name": "stderr",
     "output_type": "stream",
     "text": [
      "/tmp/ipykernel_428328/3709267318.py:6: RuntimeWarning: Mean of empty slice\n",
      "  print(f\"{method}: {np.nanmean(kl_divergence)}\")\n",
      "/tmp/ipykernel_428328/3709267318.py:7: RuntimeWarning: Mean of empty slice\n",
      "  means[method] = np.nanmean(kl_divergence)\n"
     ]
    }
   ],
   "source": [
    "# iterate through each method and calculate the means.  I will treat every -inf as a NaN, and just ignore it for the sake of mean calculation\n",
    "means = {}\n",
    "for method, kl_divergence in kl_divergences.items():\n",
    "    kl_divergence = np.array(kl_divergence)\n",
    "    kl_divergence[kl_divergence == -np.inf] = np.nan\n",
    "    print(f\"{method}: {np.nanmean(kl_divergence)}\")\n",
    "    means[method] = np.nanmean(kl_divergence)"
   ]
  },
  {
   "cell_type": "code",
   "execution_count": 83,
   "metadata": {},
   "outputs": [
    {
     "data": {
      "text/plain": [
       "<BarContainer object of 7 artists>"
      ]
     },
     "execution_count": 83,
     "metadata": {},
     "output_type": "execute_result"
    },
    {
     "data": {
      "image/png": "[encoded data removed]",
      "text/plain": [
       "<Figure size 1080x720 with 1 Axes>"
      ]
     },
     "metadata": {
      "needs_background": "light"
     },
     "output_type": "display_data"
    }
   ],
   "source": [
    "# big plot rcparams\n",
    "plt.rcParams['figure.figsize'] = [15, 10]\n",
    "plt.bar(means.keys(), means.values())"
   ]
  },
  {
   "cell_type": "code",
   "execution_count": null,
   "metadata": {},
   "outputs": [],
   "source": []
  }
 ],
 "metadata": {
  "kernelspec": {
   "display_name": "all_tools_py39",
   "language": "python",
   "name": "python3"
  },
  "language_info": {
   "codemirror_mode": {
    "name": "ipython",
    "version": 3
   },
   "file_extension": ".py",
   "mimetype": "text/x-python",
   "name": "python",
   "nbconvert_exporter": "python",
   "pygments_lexer": "ipython3",
   "version": "3.9.11"
  }
 },
 "nbformat": 4,
 "nbformat_minor": 2
}
