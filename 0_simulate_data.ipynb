{
 "cells": [
  {
   "cell_type": "code",
   "execution_count": 1,
   "metadata": {},
   "outputs": [],
   "source": [
    "# make simulated data. The assumptions are thaat the data is generated as follows:\n",
    "# I have written the below as equalities, but in reality they are random variables.\n",
    "\n",
    "# N_i = Poisson(lambda_i) . the Number of birds at site i is a Poisson random variable with mean lambda_i\n",
    "# p_ij = Beta(alpha, beta) . The singing rate (p of singing in a given 5s window) of a bird at site i on day j is a Beta random variable with parameters alpha and beta\n",
    "# n_song_clips_ij ~ Binomial(N_i, p_ij) . The number of song clips recorded at site i on day j is a Binomial random variable with parameters N_i and p_ij\n"
   ]
  },
  {
   "cell_type": "code",
   "execution_count": 26,
   "metadata": {},
   "outputs": [],
   "source": [
    "def make_simulated_data(pop_lambda, p_call, nsites, nclips, pos_mu, pos_sd, neg_mu, neg_sd):\n",
    "    \"\"\"\n",
    "    Make simulated data. The assumptions are thaat the data is generated as follows:\n",
    "    Number of birds at site i is a Poisson random variable with mean pop_lambda\n",
    "    The singing rate (p of singing in a given 5s window) is p_call\n",
    "    The number of song clips recorded at site i on day j is a Binomial random variable with parameters N_i and p_ij\n",
    "    The positive and negative gaussian parameters are pos_gauss_params (mu_1, sd_1) and neg_gauss_params (mu2, sd2)\n",
    "    \"\"\"\n",
    "    import numpy as np\n",
    "    import pandas as pd\n",
    "    import scipy.stats as stats\n",
    "    from scipy.stats import poisson, beta, binom\n",
    "    import random\n",
    "\n",
    "    # make the population sizes for each site\n",
    "    N_birds = poisson.rvs(pop_lambda, size=nsites)\n",
    "\n",
    "    p_nocall = (1 - p_call)**N_birds # p of a clip containing no calls\n",
    "\n",
    "    # number of clips containing no calls at each site\n",
    "    num_nocall_clips = np.random.binomial(nclips, p_nocall)\n",
    "\n",
    "    # now make an array where each row is a site, and each column is a clip\n",
    "    # each entry is the score for that clip\n",
    "    # the score is a random variable from a mixture of two gaussians\n",
    "    # the first gaussian is the positive gaussian, the second is the negative gaussian\n",
    "    # so draw num_nocall_clips from the negative gaussian, and nclips - num_nocall_clips from the positive gaussian\n",
    "    scores = np.zeros((nsites, nclips))\n",
    "    for i in range(nsites):\n",
    "        scores[i, :num_nocall_clips[i]] = np.random.normal(neg_mu, neg_sd, num_nocall_clips[i])\n",
    "        scores[i, num_nocall_clips[i]:] = np.random.normal(pos_mu, pos_sd, nclips - num_nocall_clips[i])\n",
    "\n",
    "    # make the data frame\n",
    "    scores_df = pd.DataFrame(scores)\n",
    "\n",
    "    # now make the truth_df, for storing the true values of N, p_call, and num_nocall_clips, pos_mu, pos_sd, neg_mu, neg_sd\n",
    "    truth_df = pd.DataFrame({'N_birds': N_birds, 'p_call': p_call, 'num_nocall_clips': num_nocall_clips, 'pos_mu': pos_mu, 'pos_sd': pos_sd, 'neg_mu': neg_mu, 'neg_sd': neg_sd})\n",
    "\n",
    "    return scores_df, truth_df"
   ]
  },
  {
   "cell_type": "code",
   "execution_count": 35,
   "metadata": {},
   "outputs": [],
   "source": [
    "NSITES = 100\n",
    "NCLIPS = 720\n",
    "pos_mu = 5\n",
    "pos_sd = 2\n",
    "neg_mu = -1\n",
    "neg_sd = 1\n",
    "scores_df, truth_df = make_simulated_data(pop_lambda=2, p_call = 0.1, \n",
    "                                          nsites = NSITES, nclips = NCLIPS, pos_mu = pos_mu, \n",
    "                                          pos_sd = pos_sd, neg_mu = neg_mu, neg_sd = neg_sd)"
   ]
  },
  {
   "cell_type": "code",
   "execution_count": 37,
   "metadata": {},
   "outputs": [],
   "source": [
    "import numpy as np\n",
    "for pop_lambda in np.arange(0.05, 3, 0.1):\n",
    "    for p_call in np.arange(0.01, 0.5, 0.05):\n",
    "        scores_df, truth_df = make_simulated_data(pop_lambda=pop_lambda, p_call = p_call, nsites = NSITES, nclips = NCLIPS, \n",
    "                                                  pos_mu = pos_mu, pos_sd = pos_sd, neg_mu = neg_mu, neg_sd = neg_sd)\n",
    "        scores_df.to_csv(f'simulated_data/simulated_data_lambda_{pop_lambda:.2f}_p_call_{p_call:.2f}.csv')\n",
    "        truth_df.to_csv(f'simulated_data/simulated_truthlambda_{pop_lambda:.2f}_p_call_{p_call:.2f}.csv')"
   ]
  },
  {
   "cell_type": "code",
   "execution_count": null,
   "metadata": {},
   "outputs": [],
   "source": []
  }
 ],
 "metadata": {
  "kernelspec": {
   "display_name": "all_tools_py39",
   "language": "python",
   "name": "python3"
  },
  "language_info": {
   "codemirror_mode": {
    "name": "ipython",
    "version": 3
   },
   "file_extension": ".py",
   "mimetype": "text/x-python",
   "name": "python",
   "nbconvert_exporter": "python",
   "pygments_lexer": "ipython3",
   "version": "3.9.11"
  }
 },
 "nbformat": 4,
 "nbformat_minor": 2
}
